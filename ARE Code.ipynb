{
 "cells": [
  {
   "cell_type": "code",
   "execution_count": 2,
   "metadata": {},
   "outputs": [],
   "source": [
    "import random\n",
    "import matplotlib.pyplot as plt"
   ]
  },
  {
   "cell_type": "code",
   "execution_count": 3,
   "metadata": {},
   "outputs": [],
   "source": [
    "def eveil(e):\n",
    "    \"\"\"int->Number\"\"\"\n",
    "    if e>=17 and e<21:\n",
    "        return alcool(0.5)\n",
    "    elif e>=21:\n",
    "        return alcool(0.8)\n",
    "    return 1"
   ]
  },
  {
   "cell_type": "code",
   "execution_count": 4,
   "metadata": {},
   "outputs": [],
   "source": [
    "def alcool (a):\n",
    "    \"\"\"Number ->Number\"\"\"\n",
    "    #D:dict[Number:Number]\n",
    "    D={0.5:2, 0.8:10, 1.5:32}\n",
    "    #pre:Number\n",
    "    pre=0\n",
    "    #Min:Number\n",
    "    Min=1000\n",
    "    #k:Number\n",
    "    if a > 0.5 :\n",
    "        #k:Number\n",
    "        for k in D:\n",
    "            if  abs(a-k) <Min:\n",
    "                Min=abs(a-k)\t    \n",
    "                pre=k\n",
    "        return a*D[pre]/pre\n",
    "    return 1"
   ]
  },
  {
   "cell_type": "code",
   "execution_count": 5,
   "metadata": {},
   "outputs": [],
   "source": [
    "def coeff_alcool(a,S):\n",
    "    \"\"\"Number*str->Number\n",
    "    hyp: S=”Femme” or S==”Homme\"\"\"\n",
    "    #a1:Number\n",
    "    a1=a\n",
    "    if alcool(a1)> 1:\n",
    "        a1=a1 - sexe(S)\n",
    "    return alcool(a1)"
   ]
  },
  {
   "cell_type": "code",
   "execution_count": 6,
   "metadata": {},
   "outputs": [],
   "source": [
    "def jour(jour):\n",
    "    \"\"\"str->int\"\"\"\n",
    "    if jour=='Lundi':\n",
    "        return 1\n",
    "    elif jour=='Mardi':\n",
    "        return 2\n",
    "    elif jour=='Mercredi':\n",
    "        return 3\n",
    "    elif jour=='Jeudi':\n",
    "        return 4\n",
    "    elif jour=='Vendredi':\n",
    "        return 5\n",
    "    elif jour=='Samedi':\n",
    "        return 6\n",
    "    elif jour=='Dimanche':\n",
    "        return 7"
   ]
  },
  {
   "cell_type": "code",
   "execution_count": 7,
   "metadata": {},
   "outputs": [],
   "source": [
    "def week(jj):\n",
    "    \"\"\"int->int\"\"\"\n",
    "    if jj<8:\n",
    "         return jj+1\n",
    "    if jj==8:\n",
    "        return 1"
   ]
  },
  {
   "cell_type": "code",
   "execution_count": 8,
   "metadata": {},
   "outputs": [],
   "source": [
    "def moment (m,j):\n",
    "    \"\"\"int*str->Number\"\"\"\n",
    "    #z:int\n",
    "    z=m\n",
    "    #jj:int\n",
    "    jj=jour(j)\n",
    "    if (jj==6 or jj==7) and m<24:\n",
    "        if (2<=z and z<=5) or (13<=z and z<=16):\n",
    "            return 5.6*2.7\n",
    "        else:\n",
    "            return 2.7\n",
    "    elif (jj!=6 or jj!=7) and m<24:\n",
    "        if (2<=z and z<=5) or (13<=z and z<=16):\n",
    "            return 5.6\n",
    "        else:\n",
    "            return 1\n",
    "    elif z%24==0:\n",
    "        jj=week(jj+1)\n",
    "        z=0\n",
    "        return 1"
   ]
  },
  {
   "cell_type": "code",
   "execution_count": 9,
   "metadata": {},
   "outputs": [],
   "source": [
    "def sexe(S):\n",
    "    \"\"\"str->float\n",
    "    hyp: S==”Femme” or S==”Homme” \"\"\"\n",
    "    if S==\"Femme\":\n",
    "        return 0.0925\n",
    "    return 0.125"
   ]
  },
  {
   "cell_type": "code",
   "execution_count": 10,
   "metadata": {},
   "outputs": [],
   "source": [
    "def coeff_par_voie(voie):\n",
    "    \"\"\"int-> Number\n",
    "    hyp: voie==1 or voie==2 or voie==3\"\"\"\n",
    "    if voie==1:\n",
    "        return 1\n",
    "    if voie ==2:\n",
    "        return 16\n",
    "    if voie==3:\n",
    "        return 28"
   ]
  },
  {
   "cell_type": "code",
   "execution_count": 11,
   "metadata": {},
   "outputs": [],
   "source": [
    "def aire_de_repos(h,h1):\n",
    "      \"\"\"Number*Number->Number\"\"\"\n",
    "      if (h-h1)%2==0:\n",
    "          return h+(1/3) \n",
    "      return h"
   ]
  },
  {
   "cell_type": "code",
   "execution_count": 12,
   "metadata": {},
   "outputs": [],
   "source": [
    "def sommeil (dodo):\n",
    "    \"\"\"Number->Number\"\"\"\n",
    "    if dodo<4:\n",
    "        return 11.5\n",
    "    elif 4<=dodo<5:\n",
    "        return 4.3\n",
    "    elif 5<=dodo<6:\n",
    "        return 1.9\n",
    "    elif 6<=dodo<7:\n",
    "        return 1.3\n",
    "    return 1 "
   ]
  },
  {
   "cell_type": "code",
   "execution_count": 13,
   "metadata": {},
   "outputs": [],
   "source": [
    "def vitesse(voie):\n",
    "    \"\"\"int->int\"\"\"\n",
    "    if 1:\n",
    "        return 60\n",
    "    elif 2:\n",
    "        return 90\n",
    "    return 130"
   ]
  },
  {
   "cell_type": "code",
   "execution_count": 68,
   "metadata": {},
   "outputs": [
    {
     "data": {
      "text/plain": [
       "{1: (5.333333333333333,\n",
       "  5.0,\n",
       "  0.3333333333333333,\n",
       "  [0.013766879999999999,\n",
       "   0.13615444319999997,\n",
       "   1.3465674432479995,\n",
       "   13.317552013722713,\n",
       "   131.7105894157176],\n",
       "  True),\n",
       " 2: (2, 2, 0, [0.22027007999999998, 34.855537459199994], True),\n",
       " 3: (2, 2, 0, [0.38547264, 106.74508346879998], True)}"
      ]
     },
     "execution_count": 68,
     "metadata": {},
     "output_type": "execute_result"
    }
   ],
   "source": [
    "def voie_globale(j,m,S,a,dodo):\n",
    "    \"\"\"str*int*str*Number*Number->dict[int:tuple[Number,int,Number,list[Number],bool]]\n",
    " hyp: voie = 1(voie lente), 2(voie centrale) ou 3(voie d’accélération), j est un jour de la       semaine avec une majuscule, S==”Femme” or S==”Homme”, 0<=m (moment de la journée)<=24\"\"\"\n",
    "    Lcoeff_g=[]\n",
    "    e1=1\n",
    "    r=0\n",
    "    DR=dict()      \n",
    "    e=0\n",
    "    fin=False\n",
    "    b=True\n",
    "    for c in range (1,4):\n",
    "        while not  fin:\n",
    "            if b:\n",
    "                coeff_g=0.0000232*vitesse(c)\n",
    "                coeff_g= coeff_g* coeff_alcool(a,S)* moment(m,j)* coeff_par_voie(c)* sommeil(dodo)* eveil(e)\n",
    "                b=False\n",
    "                if random.randrange(0,100,1)<coeff_g:\n",
    "                    fin= True \n",
    "            else:\n",
    "                coeff_g= coeff_g* coeff_alcool(a,S)* moment(m,j)*coeff_par_voie(c)* sommeil(dodo)* eveil(e)\n",
    "                epre=e\n",
    "                e=aire_de_repos(e,e1)\n",
    "                if epre!=e:         # h1=min de repos total   r=nb de fois ou aire de repos\n",
    "                    r=r+1\n",
    "                    e1=(1/3)*r\n",
    "                \n",
    "                if random.randrange(0,100,1)<coeff_g:\n",
    "                    fin= True\n",
    "            e=e+1      #nbre d’heure d’eveil\n",
    "            Lcoeff_g.append(coeff_g)\n",
    "        DR[c]=(e,e-e1,e1,Lcoeff_g, fin)\n",
    "        Lcoeff_g=[]\n",
    "        e=0\n",
    "        e1=0\n",
    "        r=1\n",
    "        b=True\n",
    "        fin=False\n",
    "    return DR\n",
    "voie_globale(\"Mardi\",17,\"Homme\",0.7,4)"
   ]
  },
  {
   "cell_type": "code",
   "execution_count": 69,
   "metadata": {},
   "outputs": [
    {
     "data": {
      "text/plain": [
       "[0.22027007999999998, 34.855537459199994, 5515.540247543806]"
      ]
     },
     "execution_count": 69,
     "metadata": {},
     "output_type": "execute_result"
    }
   ],
   "source": [
    "def list_for_graph(i,v, DT):\n",
    "    \"\"\"str**2*dict[int:tuple[Number, int, Number,list[Number],bool]]->list[alpha]\n",
    "hyp:i==’heure de conduite’ or i==’liste de coeff’ , v appartient à [1,3]\"\"\"\n",
    "    if  i==\"heure de conduite\":\n",
    "        return [i for i in range (0, len(DT[v][3]))]\n",
    "    else:\n",
    "        return DT[v][3]\n",
    "                                  \n",
    "list_for_graph(\"heure de conduite\",2,voie_globale(\"Mardi\",17,\"Homme\",0.7,4))\n",
    "list_for_graph(\"liste de coeff\",2,voie_globale(\"Mardi\",17,\"Homme\",0.7,4))"
   ]
  },
  {
   "cell_type": "code",
   "execution_count": 70,
   "metadata": {},
   "outputs": [
    {
     "name": "stdout",
     "output_type": "stream",
     "text": [
      "{1: (4.333333333333333, 3.9999999999999996, 0.3333333333333333, [0.013766879999999999, 0.13615444319999997, 1.3465674432479995, 13.317552013722713], True), 2: (2, 2, 0, [0.22027007999999998, 34.855537459199994], True), 3: (2, 2, 0, [0.38547264, 106.74508346879998], True)}\n"
     ]
    },
    {
     "data": {
      "image/png": "[encoded data removed]",
      "text/plain": [
       "<Figure size 432x288 with 1 Axes>"
      ]
     },
     "metadata": {
      "needs_background": "light"
     },
     "output_type": "display_data"
    }
   ],
   "source": [
    "plt.title(\"Accidents autoroutiers\")\n",
    "plt.xlabel('Temps')\n",
    "plt.ylabel('Risque d accident')\n",
    "voie=voie_globale(\"Mardi\",17,\"Homme\",0.7,4)\n",
    "print(voie)\n",
    "T1=list_for_graph(\"heure de conduite\",1,voie)\n",
    "A1=list_for_graph(\"liste de coeff\",1,voie)\n",
    "plt.plot(T1,A1,marker=\"*\", label=\"Voie 1\")\n",
    "T2=list_for_graph(\"heure de conduite\",2,voie)\n",
    "A2=list_for_graph(\"liste de coeff\",2,voie)\n",
    "plt.plot(T2,A2,marker=\"x\", label=\"Voie 2\")\n",
    "T3=list_for_graph(\"heure de conduite\",3,voie)\n",
    "A3=list_for_graph(\"liste de coeff\",3,voie)\n",
    "plt.plot(T3,A3,marker=\"o\", label=\"Voie 3\")\n",
    "plt.legend()\n",
    "plt.show()"
   ]
  },
  {
   "cell_type": "code",
   "execution_count": null,
   "metadata": {},
   "outputs": [],
   "source": []
  }
 ],
 "metadata": {
  "kernelspec": {
   "display_name": "Python 3",
   "language": "python",
   "name": "python3"
  },
  "language_info": {
   "codemirror_mode": {
    "name": "ipython",
    "version": 3
   },
   "file_extension": ".py",
   "mimetype": "text/x-python",
   "name": "python",
   "nbconvert_exporter": "python",
   "pygments_lexer": "ipython3",
   "version": "3.7.4"
  }
 },
 "nbformat": 4,
 "nbformat_minor": 2
}
